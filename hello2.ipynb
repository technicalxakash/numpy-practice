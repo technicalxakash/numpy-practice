{
 "cells": [
  {
   "cell_type": "code",
   "execution_count": 4,
   "id": "e4431f4e-5526-4e10-a44e-12f892bb1eb8",
   "metadata": {},
   "outputs": [
    {
     "name": "stdout",
     "output_type": "stream",
     "text": [
      "2052599364352\n",
      "2052599363392\n"
     ]
    }
   ],
   "source": [
    "x1=[100] \n",
    "x2=[100]\n",
    "print(id(x1))\n",
    "print(id(x2))\n"
   ]
  },
  {
   "cell_type": "code",
   "execution_count": 11,
   "id": "8db265e7-1ab8-4be5-8e1e-dcf91e67987f",
   "metadata": {},
   "outputs": [
    {
     "ename": "AttributeError",
     "evalue": "'list' object has no attribute 'transpose'",
     "output_type": "error",
     "traceback": [
      "\u001b[1;31m---------------------------------------------------------------------------\u001b[0m",
      "\u001b[1;31mAttributeError\u001b[0m                            Traceback (most recent call last)",
      "Cell \u001b[1;32mIn[11], line 4\u001b[0m\n\u001b[0;32m      1\u001b[0m a\u001b[38;5;241m=\u001b[39m([[\u001b[38;5;241m1\u001b[39m,\u001b[38;5;241m2\u001b[39m,\u001b[38;5;241m3\u001b[39m]\n\u001b[0;32m      2\u001b[0m       ,[\u001b[38;5;241m4\u001b[39m,\u001b[38;5;241m5\u001b[39m,\u001b[38;5;241m6\u001b[39m],\n\u001b[0;32m      3\u001b[0m       [\u001b[38;5;241m7\u001b[39m,\u001b[38;5;241m8\u001b[39m,\u001b[38;5;241m9\u001b[39m]])\n\u001b[1;32m----> 4\u001b[0m \u001b[38;5;28mprint\u001b[39m(a\u001b[38;5;241m.\u001b[39mtranspose())\n",
      "\u001b[1;31mAttributeError\u001b[0m: 'list' object has no attribute 'transpose'"
     ]
    }
   ],
   "source": [
    "a=([[1,2,3]\n",
    "      ,[4,5,6],\n",
    "      [7,8,9]])\n",
    "print(a.transpose())"
   ]
  },
  {
   "cell_type": "code",
   "execution_count": 17,
   "id": "25675263-2425-4e03-ba18-7c6be60c067b",
   "metadata": {},
   "outputs": [
    {
     "name": "stdout",
     "output_type": "stream",
     "text": [
      "2052599364352\n",
      "2052599363392\n"
     ]
    },
    {
     "data": {
      "text/plain": [
       "array([[2052599364352],\n",
       "       [2052599363392]], dtype=int64)"
      ]
     },
     "execution_count": 17,
     "metadata": {},
     "output_type": "execute_result"
    }
   ],
   "source": [
    "import numpy as np\n",
    "x1=2052599364352\n",
    "x2=2052599363392\n",
    "print(x1)\n",
    "print(x2)\n",
    "np.vstack((x1,x2))\n"
   ]
  },
  {
   "cell_type": "code",
   "execution_count": 18,
   "id": "c0015544-a5f6-4c3c-a3e8-37d18f3d91ab",
   "metadata": {},
   "outputs": [
    {
     "name": "stdout",
     "output_type": "stream",
     "text": [
      "2052599364352\n",
      "2052599363392\n"
     ]
    },
    {
     "data": {
      "text/plain": [
       "array([2052599364352, 2052599363392], dtype=int64)"
      ]
     },
     "execution_count": 18,
     "metadata": {},
     "output_type": "execute_result"
    }
   ],
   "source": [
    "x1=2052599364352\n",
    "x2=2052599363392\n",
    "print(x1)\n",
    "print(x2)\n",
    "np.hstack((x1,x2))"
   ]
  },
  {
   "cell_type": "code",
   "execution_count": 19,
   "id": "a065bb77-34e3-404e-b6a3-640c80ec1a51",
   "metadata": {},
   "outputs": [
    {
     "data": {
      "text/plain": [
       "array([1, 2, 3, 4, 2, 4, 6, 8, 2, 4, 6, 8, 5, 6, 7, 8])"
      ]
     },
     "execution_count": 19,
     "metadata": {},
     "output_type": "execute_result"
    }
   ],
   "source": [
    "x3=[1,2,3,4,5,6,7,8]\n",
    "x4=[2,4,6,8,2,4,6,8]\n",
    "np.insert(x3,4,x4)"
   ]
  },
  {
   "cell_type": "code",
   "execution_count": 20,
   "id": "b210a06f-b093-4f9e-ae1e-7fec199873ed",
   "metadata": {},
   "outputs": [
    {
     "data": {
      "text/plain": [
       "array([  1,   2,   3,   4, 100,   5,   6,   7,   8])"
      ]
     },
     "execution_count": 20,
     "metadata": {},
     "output_type": "execute_result"
    }
   ],
   "source": [
    "x5=[1,2,3,4,5,6,7,8]\n",
    "x6=[100]\n",
    "np.insert(x5,4,x6)"
   ]
  },
  {
   "cell_type": "code",
   "execution_count": 21,
   "id": "7c0ed2ef-d7fc-40e1-b584-f3de1506b677",
   "metadata": {},
   "outputs": [
    {
     "data": {
      "text/plain": [
       "array([1, 3, 4, 5, 6, 7, 8])"
      ]
     },
     "execution_count": 21,
     "metadata": {},
     "output_type": "execute_result"
    }
   ],
   "source": [
    "x3=[1,2,3,4,5,6,7,8]\n",
    "x4=[2,4,6,8,2,4,6,8]\n",
    "np.delete(x3,1)"
   ]
  },
  {
   "cell_type": "code",
   "execution_count": null,
   "id": "953ca7e1-4301-4625-8d72-cd8c206837b4",
   "metadata": {},
   "outputs": [],
   "source": []
  }
 ],
 "metadata": {
  "kernelspec": {
   "display_name": "Python 3 (ipykernel)",
   "language": "python",
   "name": "python3"
  },
  "language_info": {
   "codemirror_mode": {
    "name": "ipython",
    "version": 3
   },
   "file_extension": ".py",
   "mimetype": "text/x-python",
   "name": "python",
   "nbconvert_exporter": "python",
   "pygments_lexer": "ipython3",
   "version": "3.11.7"
  }
 },
 "nbformat": 4,
 "nbformat_minor": 5
}
